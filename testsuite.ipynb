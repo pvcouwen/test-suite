{
 "cells": [
  {
   "cell_type": "code",
   "execution_count": 7,
   "id": "f581d0aa",
   "metadata": {},
   "outputs": [],
   "source": [
    "import sqlite3\n",
    "import json\n",
    "import math\n",
    "from datetime import datetime\n",
    "import random\n",
    "import time\n",
    "from statistics import variance"
   ]
  },
  {
   "cell_type": "code",
   "execution_count": null,
   "id": "c784d700",
   "metadata": {},
   "outputs": [],
   "source": [
    "!pip install metno-locationforecast"
   ]
  },
  {
   "cell_type": "markdown",
   "id": "e1047ede",
   "metadata": {},
   "source": [
    "# RETRIEVING HOME COORDINATES"
   ]
  },
  {
   "cell_type": "code",
   "execution_count": 12,
   "id": "2d4618b3",
   "metadata": {},
   "outputs": [
    {
     "name": "stdout",
     "output_type": "stream",
     "text": [
      "Retrieved coordinates: [(51.1275572, 4.2147459), (51.1275572, 4.2147459)]\n"
     ]
    }
   ],
   "source": [
    "def find_coordinates(db_path):\n",
    "    coordinates = []\n",
    "    \n",
    "    try:\n",
    "        conn = sqlite3.connect(db_path)\n",
    "        cursor = conn.cursor()\n",
    "        \n",
    "        cursor.execute(\"SELECT shared_attrs FROM state_attributes\")\n",
    "        \n",
    "        for row in cursor.fetchall():\n",
    "            state = row[0]\n",
    "            if state:\n",
    "                state_dict = json.loads(state)\n",
    "                \n",
    "                if \"latitude\" in state_dict and \"longitude\" in state_dict:\n",
    "                    lat = state_dict[\"latitude\"]\n",
    "                    lon = state_dict[\"longitude\"]\n",
    "                    \n",
    "                    if not (lat == 0 and lon == 0):\n",
    "                        coordinates.append((lat, lon))\n",
    "    \n",
    "    except sqlite3.Error as e:\n",
    "        print(f\"SQLite error: {e}\")\n",
    "    \n",
    "    finally:\n",
    "        if conn:\n",
    "            conn.close()\n",
    "    \n",
    "    return coordinates\n",
    "\n",
    "db_path = \".homeassistant/home-assistant_v2.db\"\n",
    "coordinates = find_coordinates(db_path)\n",
    "print(\"Retrieved coordinates:\", coordinates)\n"
   ]
  },
  {
   "cell_type": "markdown",
   "id": "4b5d2429",
   "metadata": {},
   "source": [
    "# ADDING NOISE TO COORDINATES"
   ]
  },
  {
   "cell_type": "markdown",
   "id": "181ae469",
   "metadata": {},
   "source": [
    "Met.no api truncates coordinates to 4 decimals\n",
    "In Belgium, a difference of 0.0001 in latitude is 11.1m, in 0.0001 in longitude is 7.1m\n",
    "\n",
    "WARNING: no more than 10 requests per second"
   ]
  },
  {
   "cell_type": "code",
   "execution_count": 20,
   "id": "c1a394bc",
   "metadata": {},
   "outputs": [
    {
     "name": "stdout",
     "output_type": "stream",
     "text": [
      "### VARIANCE: 0.1 ###\n",
      "lat:51.14393048469217 lon: 4.401824222269102 temp: 17.6\n",
      "lat:51.06142802722937 lon: 4.13355848292432 temp: 17.9\n",
      "lat:51.08387547365361 lon: 4.358761394381707 temp: 17.6\n",
      "lat:51.04603869035031 lon: 4.26675017381676 temp: 17.7\n",
      "lat:51.04045087884305 lon: 4.166928786047102 temp: 17.8\n",
      "lat:51.06528411362378 lon: 4.217651706523089 temp: 17.8\n",
      "lat:51.012169790701634 lon: 4.171633586345948 temp: 17.8\n",
      "lat:51.042620345783824 lon: 4.058064684942208 temp: 17.8\n",
      "lat:51.120263937614396 lon: 4.149269026656576 temp: 17.9\n",
      "lat:51.08125436761929 lon: 4.227654111838927 temp: 17.8\n",
      "lat:51.04307871514265 lon: 4.174118813784737 temp: 17.8\n",
      "lat:51.12469519013219 lon: 4.409379945450259 temp: 17.6\n",
      "lat:50.81249588940706 lon: 4.285211681271907 temp: 17.3\n",
      "lat:51.119573279346554 lon: 4.061627566877585 temp: 17.9\n",
      "lat:51.09614226468557 lon: 4.2403235172058675 temp: 17.8\n",
      "lat:51.219947583976804 lon: 4.210255838122562 temp: 17.6\n",
      "lat:51.08225480674182 lon: 4.29501875111862 temp: 17.7\n",
      "lat:51.15158447498833 lon: 4.224164040904895 temp: 17.6\n",
      "lat:51.26474514096905 lon: 4.211436323810997 temp: 17.8\n",
      "lat:51.03246717992073 lon: 4.346388960933857 temp: 17.7\n",
      "### VARIANCE: 0.5 ###\n",
      "lat:50.58463838173275 lon: 3.740755566595788 temp: 17.4\n",
      "lat:51.37853614880077 lon: 4.355444709442065 temp: 17.7\n",
      "lat:51.285064933765256 lon: 4.543967358832716 temp: 17.7\n",
      "lat:51.006649349861014 lon: 4.01489489079523 temp: 17.7\n",
      "lat:51.146807073602275 lon: 4.18334954535349 temp: 17.8\n",
      "lat:51.983787630361576 lon: 3.72463098030572 temp: 15.1\n",
      "lat:50.52799413492316 lon: 3.6656879992783917 temp: 17.5\n",
      "lat:50.810457785250016 lon: 3.8290049763132337 temp: 17.4\n",
      "lat:50.19971549034699 lon: 3.8514930948836454 temp: 17.5\n",
      "lat:51.1479856059772 lon: 4.6084120667968085 temp: 17.8\n",
      "lat:51.86422731394812 lon: 4.255764492432048 temp: 17.4\n",
      "lat:50.451836808889304 lon: 3.5117614881034442 temp: 17.7\n",
      "lat:51.133080141135494 lon: 4.602404469021479 temp: 17.8\n",
      "lat:51.43681835275346 lon: 2.94695887010273 temp: 15.6\n",
      "lat:50.88062588313341 lon: 3.4942502521675216 temp: 17.6\n",
      "lat:51.398589277774406 lon: 3.9869918869095655 temp: 18.0\n",
      "lat:51.625162661501115 lon: 4.700672827925427 temp: 17.6\n",
      "lat:51.45166887771384 lon: 4.424011147136 temp: 17.6\n",
      "lat:50.93868623552137 lon: 4.1412213744481345 temp: 17.5\n",
      "lat:50.352390126506464 lon: 4.397426755671958 temp: 17.5\n",
      "### VARIANCE: 1 ###\n",
      "lat:50.24888672175995 lon: 3.766888500613791 temp: 17.6\n",
      "lat:52.01009994602153 lon: 5.165162620241809 temp: 16.8\n",
      "lat:51.919012067893654 lon: 5.685099440500483 temp: 16.8\n",
      "lat:52.93155403157334 lon: 3.0105187852501274 temp: 13.8\n",
      "lat:51.069230246245404 lon: 3.9512053018521365 temp: 17.8\n",
      "lat:50.17310650084155 lon: 4.577473281202865 temp: 16.9\n",
      "lat:51.434486580043284 lon: 4.733237851943832 temp: 17.6\n",
      "lat:51.015096667328926 lon: 3.9776722452323128 temp: 17.7\n",
      "lat:50.71775087783271 lon: 5.434048001737109 temp: 16.7\n",
      "lat:50.45476932939782 lon: 2.8021234120001637 temp: 17.7\n",
      "lat:52.26457045681719 lon: 6.022748276649198 temp: 16.4\n",
      "lat:51.6410236559219 lon: 4.95632490608074 temp: 17.6\n",
      "lat:51.61095217864431 lon: 2.1325179237916343 temp: 15.5\n",
      "lat:52.376590557932616 lon: 4.006135041183233 temp: 14.7\n",
      "lat:50.92386710170501 lon: 3.0796167730683486 temp: 17.6\n",
      "lat:53.90729946955323 lon: 5.167857045113315 temp: 12.9\n",
      "lat:49.51301727584133 lon: 3.774683133682572 temp: 16.6\n",
      "lat:51.738216346043835 lon: 3.061307111634462 temp: 15.6\n",
      "lat:52.16144933642059 lon: 4.728277493041306 temp: 17.0\n",
      "lat:49.974831087402386 lon: 4.56124075349438 temp: 16.7\n",
      "### VARIANCE: 2 ###\n",
      "lat:49.99540709224182 lon: 2.2021024391869135 temp: 17.0\n",
      "lat:51.73712761292473 lon: 1.6613508085853814 temp: 15.4\n",
      "lat:50.62290136291257 lon: 2.753969182940989 temp: 17.9\n",
      "lat:49.51565835839145 lon: 6.164950524279565 temp: 15.7\n",
      "lat:50.28828658558381 lon: 3.563894150589074 temp: 17.5\n",
      "lat:50.17752911342035 lon: 3.5116821392706754 temp: 17.9\n",
      "lat:51.51079818460153 lon: 3.500329983643332 temp: 17.7\n",
      "lat:52.055675531371534 lon: 5.081656611093775 temp: 16.9\n",
      "lat:52.08368797852817 lon: 3.866998724053635 temp: 15.0\n",
      "lat:52.45152197972717 lon: 5.312822508638989 temp: 16.4\n",
      "lat:52.681978032550404 lon: 6.934251588307152 temp: 16.2\n",
      "lat:52.126003264117884 lon: 4.333779263151806 temp: 17.4\n",
      "lat:49.074864921994646 lon: 6.714450080329053 temp: 16.1\n",
      "lat:50.783281759937005 lon: 3.4375685624105046 temp: 17.6\n",
      "lat:50.499006143350016 lon: 4.483547665921247 temp: 17.5\n",
      "lat:51.04024818059245 lon: 7.175843036720293 temp: 15.5\n",
      "lat:49.35924218121766 lon: 5.039424734541121 temp: 16.0\n",
      "lat:47.61823794809183 lon: 4.978397212678844 temp: 15.5\n",
      "lat:54.30261845459658 lon: 4.374330641472146 temp: 13.2\n",
      "lat:50.22682668992024 lon: 5.2091032879959105 temp: 16.2\n",
      "\n",
      "Temperature variance results:\n",
      "Noise Variance: 0.1, Temperature Variance: 0.020921052631578792\n",
      "Noise Variance: 0.5, Temperature Variance: 0.5205000000000002\n",
      "Noise Variance: 1, Temperature Variance: 1.8631578947368426\n",
      "Noise Variance: 2, Temperature Variance: 1.435894736842105\n"
     ]
    }
   ],
   "source": [
    "from metno_locationforecast import Place, Forecast\n",
    "\n",
    "home_coords = coordinates[0]\n",
    "#truncate to 4 decimals\n",
    "home_coords = (float(f\"{home_coords[0]:.4f}\"),float(f\"{home_coords[1]:.4f}\"))\n",
    "\n",
    "user_agent = \"PrivacyTesting/1.0 (pieter-jan.vancouwenberghe@student.kuleuven.be)\"\n",
    "\n",
    "desired_time = datetime(2024, 11, 24, 12, 0, 0)\n",
    "noise_variances = [0.1,0.5,1,2]\n",
    "num_trials_per_variance = 20\n",
    "\n",
    "results = {}\n",
    "\n",
    "def get_temperature(lat, lon):\n",
    "    place = Place(\n",
    "        name=\"Home\",\n",
    "        latitude=lat,\n",
    "        longitude=lon,\n",
    "        altitude=0\n",
    "    )\n",
    "    forecast = Forecast(place, user_agent)\n",
    "    forecast.update()\n",
    "    time.sleep(0.5)  # avoid overloading API\n",
    "\n",
    "    for interval in forecast.data.intervals:\n",
    "        if interval.start_time == desired_time:\n",
    "            return interval.variables[\"air_temperature\"].value\n",
    "    return None\n",
    "\n",
    "for var in noise_variances:\n",
    "    temperatures = []\n",
    "    print(\"### VARIANCE: \"+str(var)+\" ###\")\n",
    "\n",
    "    for _ in range(num_trials_per_variance):\n",
    "        # add noise to coordinates\n",
    "        noisy_lat = home_coords[0] + random.gauss(0, var)\n",
    "        noisy_lon = home_coords[1] + random.gauss(0, var)\n",
    "        \n",
    "        temp = get_temperature(noisy_lat, noisy_lon) \n",
    "        temperatures.append(temp)\n",
    "        print(\"lat:\"+str(noisy_lat)+\" lon: \"+str(noisy_lon)+\" temp: \"+str(temp))\n",
    "\n",
    "    if len(temperatures) > 1:\n",
    "        temp_variance = variance(temperatures)\n",
    "    else:\n",
    "        temp_variance = 0\n",
    "        \n",
    "    results[var] = temp_variance\n",
    "\n",
    "print(\"\\nTemperature variance results:\")\n",
    "for var, temp_var in results.items():\n",
    "    print(f\"Noise Variance: {var}, Temperature Variance: {temp_var}\")"
   ]
  },
  {
   "cell_type": "markdown",
   "id": "7bcc8ab6",
   "metadata": {},
   "source": [
    "# ENCRYPTION OF LOCATION DATA"
   ]
  },
  {
   "cell_type": "code",
   "execution_count": 1,
   "id": "98f602de",
   "metadata": {},
   "outputs": [
    {
     "name": "stdout",
     "output_type": "stream",
     "text": [
      "Collecting pycryptodome\n",
      "  Downloading pycryptodome-3.21.0-cp36-abi3-win_amd64.whl (1.8 MB)\n",
      "     ---------------------------------------- 1.8/1.8 MB 7.7 MB/s eta 0:00:00\n",
      "Installing collected packages: pycryptodome\n",
      "Successfully installed pycryptodome-3.21.0\n"
     ]
    },
    {
     "name": "stderr",
     "output_type": "stream",
     "text": [
      "\n",
      "[notice] A new release of pip is available: 23.0.1 -> 24.3.1\n",
      "[notice] To update, run: python.exe -m pip install --upgrade pip\n"
     ]
    }
   ],
   "source": [
    "!pip install pycryptodome"
   ]
  },
  {
   "cell_type": "code",
   "execution_count": 3,
   "id": "4e4a3ee9",
   "metadata": {},
   "outputs": [],
   "source": [
    "from Crypto.Cipher import AES\n",
    "from Crypto.Random import get_random_bytes\n",
    "import os\n",
    "\n",
    "original_db_path = \".homeassistant/home-assistant_v2.db\"\n",
    "encrypted_db_path = \".homeassistant/home-assistant_v2_encrypted.db\"\n",
    "\n",
    "key = get_random_bytes(32)  # =AES-256\n",
    "iv = get_random_bytes(16)   # initalization vector"
   ]
  },
  {
   "cell_type": "code",
   "execution_count": 4,
   "id": "2b0303cc",
   "metadata": {},
   "outputs": [
    {
     "name": "stdout",
     "output_type": "stream",
     "text": [
      "Encrypted .homeassistant/home-assistant_v2.db -> .homeassistant/home-assistant_v2_encrypted.db\n"
     ]
    }
   ],
   "source": [
    "def encrypt_file(input_file, output_file, key, iv):\n",
    "    cipher = AES.new(key, AES.MODE_CFB, iv)\n",
    "    with open(input_file, 'rb') as f:\n",
    "        plaintext = f.read()\n",
    "    ciphertext = cipher.encrypt(plaintext)\n",
    "    with open(output_file, 'wb') as f:\n",
    "        f.write(iv) \n",
    "        f.write(ciphertext)\n",
    "    print(f\"Encrypted {input_file} -> {output_file}\")\n",
    "\n",
    "encrypt_file(original_db_path, encrypted_db_path, key, iv)"
   ]
  },
  {
   "cell_type": "code",
   "execution_count": 17,
   "id": "4c7c089d",
   "metadata": {},
   "outputs": [
    {
     "name": "stdout",
     "output_type": "stream",
     "text": [
      "SQLite error: file is not a database\n",
      "[]\n"
     ]
    }
   ],
   "source": [
    "encrypted_coordinates = find_coordinates(\".homeassistant/home-assistant_v2_encrypted.db\")\n",
    "\n",
    "print(encrypted_coordinates)"
   ]
  },
  {
   "cell_type": "code",
   "execution_count": 5,
   "id": "2b609f3c",
   "metadata": {},
   "outputs": [
    {
     "name": "stdout",
     "output_type": "stream",
     "text": [
      "Decrypted .homeassistant/home-assistant_v2_encrypted.db -> .homeassistant/home-assistant_v2_decrypted.db\n"
     ]
    }
   ],
   "source": [
    "def decrypt_file(input_file, output_file, key):\n",
    "    with open(input_file, 'rb') as f:\n",
    "        iv = f.read(16)  # Read the IV\n",
    "        ciphertext = f.read()\n",
    "    cipher = AES.new(key, AES.MODE_CFB, iv)\n",
    "    plaintext = cipher.decrypt(ciphertext)\n",
    "    with open(output_file, 'wb') as f:\n",
    "        f.write(plaintext)\n",
    "    print(f\"Decrypted {input_file} -> {output_file}\")\n",
    "\n",
    "decrypted_db_path = \".homeassistant/home-assistant_v2_decrypted.db\"\n",
    "decrypt_file(encrypted_db_path, decrypted_db_path, key)\n"
   ]
  },
  {
   "cell_type": "code",
   "execution_count": 18,
   "id": "602d3c48",
   "metadata": {},
   "outputs": [
    {
     "name": "stdout",
     "output_type": "stream",
     "text": [
      "[(51.1275572, 4.2147459), (51.1275572, 4.2147459)]\n"
     ]
    }
   ],
   "source": [
    "decrypted_coordinates = find_coordinates(\".homeassistant/home-assistant_v2_decrypted.db\")\n",
    "\n",
    "print(decrypted_coordinates)"
   ]
  },
  {
   "cell_type": "code",
   "execution_count": null,
   "id": "b41f74d3",
   "metadata": {},
   "outputs": [],
   "source": []
  }
 ],
 "metadata": {
  "kernelspec": {
   "display_name": "Python 3 (ipykernel)",
   "language": "python",
   "name": "python3"
  },
  "language_info": {
   "codemirror_mode": {
    "name": "ipython",
    "version": 3
   },
   "file_extension": ".py",
   "mimetype": "text/x-python",
   "name": "python",
   "nbconvert_exporter": "python",
   "pygments_lexer": "ipython3",
   "version": "3.9.13"
  }
 },
 "nbformat": 4,
 "nbformat_minor": 5
}
